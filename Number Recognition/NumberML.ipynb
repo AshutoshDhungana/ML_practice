{
  "metadata": {
    "kernelspec": {
      "name": "python",
      "display_name": "Python (Pyodide)",
      "language": "python"
    },
    "language_info": {
      "codemirror_mode": {
        "name": "python",
        "version": 3
      },
      "file_extension": ".py",
      "mimetype": "text/x-python",
      "name": "python",
      "nbconvert_exporter": "python",
      "pygments_lexer": "ipython3",
      "version": "3.8"
    }
  },
  "nbformat_minor": 4,
  "nbformat": 4,
  "cells": [
    {
      "cell_type": "code",
      "source": "from sklearn import datasets\n\ndigits = datasets.load_digits()\n\ndir(digits)",
      "metadata": {
        "trusted": true
      },
      "outputs": [
        {
          "execution_count": 2,
          "output_type": "execute_result",
          "data": {
            "text/plain": "['DESCR', 'data', 'feature_names', 'frame', 'images', 'target', 'target_names']"
          },
          "metadata": {}
        }
      ],
      "execution_count": 2
    },
    {
      "cell_type": "code",
      "source": "print(digits.data.shape)\n(1797, 64)\nprint(digits.images[0])\nimport matplotlib.pyplot as plt\nplt.gray()\nplt.matshow(digits.images[0])\nplt.show()",
      "metadata": {
        "trusted": true
      },
      "outputs": [
        {
          "name": "stdout",
          "text": "(1797, 64)\n[[ 0.  0.  5. 13.  9.  1.  0.  0.]\n [ 0.  0. 13. 15. 10. 15.  5.  0.]\n [ 0.  3. 15.  2.  0. 11.  8.  0.]\n [ 0.  4. 12.  0.  0.  8.  8.  0.]\n [ 0.  5.  8.  0.  0.  9.  8.  0.]\n [ 0.  4. 11.  0.  1. 12.  7.  0.]\n [ 0.  2. 14.  5. 10. 12.  0.  0.]\n [ 0.  0.  6. 13. 10.  0.  0.  0.]]\n",
          "output_type": "stream"
        },
        {
          "output_type": "display_data",
          "data": {
            "text/plain": "<Figure size 640x480 with 0 Axes>"
          },
          "metadata": {}
        },
        {
          "output_type": "display_data",
          "data": {
            "text/plain": "<Figure size 480x480 with 1 Axes>",
            "image/png": "[encoded data removed]"
          },
          "metadata": {}
        }
      ],
      "execution_count": 5
    },
    {
      "cell_type": "code",
      "source": "x = digits.images.shape",
      "metadata": {
        "trusted": true
      },
      "outputs": [],
      "execution_count": 14
    },
    {
      "cell_type": "code",
      "source": "x",
      "metadata": {
        "trusted": true
      },
      "outputs": [
        {
          "execution_count": 15,
          "output_type": "execute_result",
          "data": {
            "text/plain": "(1797, 8, 8)"
          },
          "metadata": {}
        }
      ],
      "execution_count": 15
    },
    {
      "cell_type": "code",
      "source": "y = digits.target",
      "metadata": {
        "trusted": true
      },
      "outputs": [],
      "execution_count": 17
    },
    {
      "cell_type": "code",
      "source": "y",
      "metadata": {
        "trusted": true
      },
      "outputs": [
        {
          "execution_count": 18,
          "output_type": "execute_result",
          "data": {
            "text/plain": "array([0, 1, 2, ..., 8, 9, 8])"
          },
          "metadata": {}
        }
      ],
      "execution_count": 18
    },
    {
      "cell_type": "code",
      "source": "y = digits.target\nx = digits.images.reshape((len(digits.images), -1))\n\n\nx.shape",
      "metadata": {
        "trusted": true
      },
      "outputs": [
        {
          "execution_count": 19,
          "output_type": "execute_result",
          "data": {
            "text/plain": "(1797, 64)"
          },
          "metadata": {}
        }
      ],
      "execution_count": 19
    },
    {
      "cell_type": "code",
      "source": "x[0]\n",
      "metadata": {
        "trusted": true
      },
      "outputs": [
        {
          "execution_count": 20,
          "output_type": "execute_result",
          "data": {
            "text/plain": "array([ 0.,  0.,  5., 13.,  9.,  1.,  0.,  0.,  0.,  0., 13., 15., 10.,\n       15.,  5.,  0.,  0.,  3., 15.,  2.,  0., 11.,  8.,  0.,  0.,  4.,\n       12.,  0.,  0.,  8.,  8.,  0.,  0.,  5.,  8.,  0.,  0.,  9.,  8.,\n        0.,  0.,  4., 11.,  0.,  1., 12.,  7.,  0.,  0.,  2., 14.,  5.,\n       10., 12.,  0.,  0.,  0.,  0.,  6., 13., 10.,  0.,  0.,  0.])"
          },
          "metadata": {}
        }
      ],
      "execution_count": 20
    },
    {
      "cell_type": "code",
      "source": "y[0]",
      "metadata": {
        "trusted": true
      },
      "outputs": [
        {
          "execution_count": 21,
          "output_type": "execute_result",
          "data": {
            "text/plain": "0"
          },
          "metadata": {}
        }
      ],
      "execution_count": 21
    },
    {
      "cell_type": "code",
      "source": "x_train = x[:1000]\ny_train = y[:1000]\n\nx_test = x[1000:]\ny_test = y[1000:]\n",
      "metadata": {
        "trusted": true
      },
      "outputs": [],
      "execution_count": 23
    },
    {
      "cell_type": "code",
      "source": "y_train[0]\n",
      "metadata": {
        "trusted": true
      },
      "outputs": [
        {
          "execution_count": 24,
          "output_type": "execute_result",
          "data": {
            "text/plain": "0"
          },
          "metadata": {}
        }
      ],
      "execution_count": 24
    },
    {
      "cell_type": "code",
      "source": "x_train[0]\n",
      "metadata": {
        "trusted": true
      },
      "outputs": [
        {
          "execution_count": 25,
          "output_type": "execute_result",
          "data": {
            "text/plain": "array([ 0.,  0.,  5., 13.,  9.,  1.,  0.,  0.,  0.,  0., 13., 15., 10.,\n       15.,  5.,  0.,  0.,  3., 15.,  2.,  0., 11.,  8.,  0.,  0.,  4.,\n       12.,  0.,  0.,  8.,  8.,  0.,  0.,  5.,  8.,  0.,  0.,  9.,  8.,\n        0.,  0.,  4., 11.,  0.,  1., 12.,  7.,  0.,  0.,  2., 14.,  5.,\n       10., 12.,  0.,  0.,  0.,  0.,  6., 13., 10.,  0.,  0.,  0.])"
          },
          "metadata": {}
        }
      ],
      "execution_count": 25
    },
    {
      "cell_type": "code",
      "source": "from sklearn.neural_network import MLPClassifier\n\nmlp = MLPClassifier(hidde_layer_sizes=(15,),\n                    actication= 'logistic', solver = 'sgd', \n                    learning_rate_init=.1, \n                    random_state=1,\n                    verbose=True)\n",
      "metadata": {
        "trusted": true
      },
      "outputs": [
        {
          "ename": "<class 'TypeError'>",
          "evalue": "MLPClassifier.__init__() got an unexpected keyword argument 'hidde_layer_sizes'",
          "traceback": [
            "\u001b[0;31m---------------------------------------------------------------------------\u001b[0m",
            "\u001b[0;31mTypeError\u001b[0m                                 Traceback (most recent call last)",
            "Cell \u001b[0;32mIn[26], line 3\u001b[0m\n\u001b[1;32m      1\u001b[0m \u001b[38;5;28;01mfrom\u001b[39;00m \u001b[38;5;21;01msklearn\u001b[39;00m\u001b[38;5;21;01m.\u001b[39;00m\u001b[38;5;21;01mneural_network\u001b[39;00m \u001b[38;5;28;01mimport\u001b[39;00m MLPClassifier\n\u001b[0;32m----> 3\u001b[0m mlp \u001b[38;5;241m=\u001b[39m \u001b[43mMLPClassifier\u001b[49m\u001b[43m(\u001b[49m\u001b[43mhidde_layer_sizes\u001b[49m\u001b[38;5;241;43m=\u001b[39;49m\u001b[43m(\u001b[49m\u001b[38;5;241;43m15\u001b[39;49m\u001b[43m,\u001b[49m\u001b[43m)\u001b[49m\u001b[43m,\u001b[49m\u001b[43mactication\u001b[49m\u001b[38;5;241;43m=\u001b[39;49m\u001b[43m \u001b[49m\u001b[38;5;124;43m'\u001b[39;49m\u001b[38;5;124;43mlogostic\u001b[39;49m\u001b[38;5;124;43m'\u001b[39;49m\u001b[43m,\u001b[49m\u001b[43m \u001b[49m\u001b[43msolver\u001b[49m\u001b[43m \u001b[49m\u001b[38;5;241;43m=\u001b[39;49m\u001b[43m \u001b[49m\u001b[38;5;124;43m'\u001b[39;49m\u001b[38;5;124;43msgd\u001b[39;49m\u001b[38;5;124;43m'\u001b[39;49m\u001b[43m,\u001b[49m\u001b[43m \u001b[49m\n\u001b[1;32m      4\u001b[0m \u001b[43m                    \u001b[49m\u001b[43mlearning_rate_init\u001b[49m\u001b[38;5;241;43m=\u001b[39;49m\u001b[38;5;241;43m1\u001b[39;49m\u001b[43m,\u001b[49m\u001b[43m \u001b[49m\n\u001b[1;32m      5\u001b[0m \u001b[43m                    \u001b[49m\u001b[43mverbose\u001b[49m\u001b[38;5;241;43m=\u001b[39;49m\u001b[38;5;28;43;01mTrue\u001b[39;49;00m\u001b[43m)\u001b[49m\n",
            "\u001b[0;31mTypeError\u001b[0m: MLPClassifier.__init__() got an unexpected keyword argument 'hidde_layer_sizes'"
          ],
          "output_type": "error"
        }
      ],
      "execution_count": 26
    },
    {
      "cell_type": "code",
      "source": "mlp.fit(x_train, y_train)",
      "metadata": {
        "trusted": true
      },
      "outputs": [
        {
          "name": "stdout",
          "text": "Iteration 1, loss = 2.22958289\nIteration 2, loss = 1.91207743\nIteration 3, loss = 1.62507727\nIteration 4, loss = 1.32649842\nIteration 5, loss = 1.06100535\nIteration 6, loss = 0.83995513\nIteration 7, loss = 0.67806075\nIteration 8, loss = 0.55175832\nIteration 9, loss = 0.45840445\nIteration 10, loss = 0.39149735\nIteration 11, loss = 0.33676351\nIteration 12, loss = 0.29059880\nIteration 13, loss = 0.25437208\nIteration 14, loss = 0.22838372\nIteration 15, loss = 0.20200554\nIteration 16, loss = 0.18186565\nIteration 17, loss = 0.16461183\nIteration 18, loss = 0.14990228\nIteration 19, loss = 0.13892154\nIteration 20, loss = 0.12833784\nIteration 21, loss = 0.12138920\nIteration 22, loss = 0.11407971\nIteration 23, loss = 0.10677664\nIteration 24, loss = 0.10037149\nIteration 25, loss = 0.09593187\nIteration 26, loss = 0.09250135\nIteration 27, loss = 0.08676698\nIteration 28, loss = 0.08356043\nIteration 29, loss = 0.08209789\nIteration 30, loss = 0.07649168\nIteration 31, loss = 0.07410898\nIteration 32, loss = 0.07126869\nIteration 33, loss = 0.06926956\nIteration 34, loss = 0.06578496\nIteration 35, loss = 0.06374913\nIteration 36, loss = 0.06175492\nIteration 37, loss = 0.05975664\nIteration 38, loss = 0.05764485\nIteration 39, loss = 0.05623663\nIteration 40, loss = 0.05420966\nIteration 41, loss = 0.05413911\nIteration 42, loss = 0.05256140\nIteration 43, loss = 0.05020265\nIteration 44, loss = 0.04902779\nIteration 45, loss = 0.04788382\nIteration 46, loss = 0.04655532\nIteration 47, loss = 0.04586089\nIteration 48, loss = 0.04451758\nIteration 49, loss = 0.04341598\nIteration 50, loss = 0.04238096\nIteration 51, loss = 0.04162200\nIteration 52, loss = 0.04076839\nIteration 53, loss = 0.04003180\nIteration 54, loss = 0.03907774\nIteration 55, loss = 0.03815565\nIteration 56, loss = 0.03791975\nIteration 57, loss = 0.03706276\nIteration 58, loss = 0.03617874\nIteration 59, loss = 0.03593227\nIteration 60, loss = 0.03504175\nIteration 61, loss = 0.03441259\nIteration 62, loss = 0.03397449\nIteration 63, loss = 0.03326990\nIteration 64, loss = 0.03305025\nIteration 65, loss = 0.03244893\nIteration 66, loss = 0.03191504\nIteration 67, loss = 0.03132169\nIteration 68, loss = 0.03079707\nIteration 69, loss = 0.03044946\nIteration 70, loss = 0.03005546\nIteration 71, loss = 0.02960555\nIteration 72, loss = 0.02912799\nIteration 73, loss = 0.02859103\nIteration 74, loss = 0.02825959\nIteration 75, loss = 0.02788968\nIteration 76, loss = 0.02748725\nIteration 77, loss = 0.02721247\nIteration 78, loss = 0.02686225\nIteration 79, loss = 0.02635636\nIteration 80, loss = 0.02607439\nIteration 81, loss = 0.02577613\nIteration 82, loss = 0.02553642\nIteration 83, loss = 0.02518749\nIteration 84, loss = 0.02484300\nIteration 85, loss = 0.02455379\nIteration 86, loss = 0.02432480\nIteration 87, loss = 0.02398548\nIteration 88, loss = 0.02376004\nIteration 89, loss = 0.02341261\nIteration 90, loss = 0.02318255\nIteration 91, loss = 0.02296065\nIteration 92, loss = 0.02274048\nIteration 93, loss = 0.02241054\nIteration 94, loss = 0.02208181\nIteration 95, loss = 0.02190861\nIteration 96, loss = 0.02174404\nIteration 97, loss = 0.02156939\nIteration 98, loss = 0.02119768\nIteration 99, loss = 0.02101874\nIteration 100, loss = 0.02078230\nIteration 101, loss = 0.02061573\nIteration 102, loss = 0.02039802\nIteration 103, loss = 0.02017245\nIteration 104, loss = 0.01997162\nIteration 105, loss = 0.01989280\nIteration 106, loss = 0.01963828\nIteration 107, loss = 0.01941850\nIteration 108, loss = 0.01933154\nIteration 109, loss = 0.01911473\nIteration 110, loss = 0.01905371\nIteration 111, loss = 0.01876085\nIteration 112, loss = 0.01860656\nIteration 113, loss = 0.01848655\nIteration 114, loss = 0.01834844\nIteration 115, loss = 0.01818981\nIteration 116, loss = 0.01798523\nIteration 117, loss = 0.01783630\nIteration 118, loss = 0.01771441\nIteration 119, loss = 0.01749814\nIteration 120, loss = 0.01738339\nIteration 121, loss = 0.01726549\nIteration 122, loss = 0.01709638\nIteration 123, loss = 0.01698340\nIteration 124, loss = 0.01684606\nIteration 125, loss = 0.01667016\nIteration 126, loss = 0.01654172\nIteration 127, loss = 0.01641832\nIteration 128, loss = 0.01630111\nIteration 129, loss = 0.01623051\nIteration 130, loss = 0.01612736\nIteration 131, loss = 0.01590220\nIteration 132, loss = 0.01582485\nIteration 133, loss = 0.01571372\nIteration 134, loss = 0.01560349\nIteration 135, loss = 0.01557688\nIteration 136, loss = 0.01534420\nIteration 137, loss = 0.01527883\nIteration 138, loss = 0.01517545\nIteration 139, loss = 0.01503663\nIteration 140, loss = 0.01501192\nIteration 141, loss = 0.01482535\nIteration 142, loss = 0.01471388\nIteration 143, loss = 0.01463948\nIteration 144, loss = 0.01454059\nIteration 145, loss = 0.01441742\nIteration 146, loss = 0.01431741\nIteration 147, loss = 0.01428414\nIteration 148, loss = 0.01416364\nIteration 149, loss = 0.01406742\nIteration 150, loss = 0.01402651\nIteration 151, loss = 0.01389720\nIteration 152, loss = 0.01381412\nIteration 153, loss = 0.01371300\nIteration 154, loss = 0.01362465\nIteration 155, loss = 0.01357048\nIteration 156, loss = 0.01348760\nIteration 157, loss = 0.01339543\nIteration 158, loss = 0.01331941\nIteration 159, loss = 0.01320812\nIteration 160, loss = 0.01315415\nIteration 161, loss = 0.01308279\nIteration 162, loss = 0.01302708\nIteration 163, loss = 0.01290042\nIteration 164, loss = 0.01289267\nIteration 165, loss = 0.01277558\nIteration 166, loss = 0.01277238\nIteration 167, loss = 0.01261308\nIteration 168, loss = 0.01260611\nIteration 169, loss = 0.01248789\nIteration 170, loss = 0.01239662\nIteration 171, loss = 0.01231743\nIteration 172, loss = 0.01227346\nIteration 173, loss = 0.01223136\nIteration 174, loss = 0.01217211\nIteration 175, loss = 0.01208682\nIteration 176, loss = 0.01204707\nIteration 177, loss = 0.01200225\nIteration 178, loss = 0.01188677\nIteration 179, loss = 0.01184993\nIteration 180, loss = 0.01175130\nIteration 181, loss = 0.01171178\nIteration 182, loss = 0.01166052\nIteration 183, loss = 0.01163843\nIteration 184, loss = 0.01154892\nIteration 185, loss = 0.01147629\nIteration 186, loss = 0.01142365\nIteration 187, loss = 0.01136608\nIteration 188, loss = 0.01128053\nIteration 189, loss = 0.01128869\nTraining loss did not improve more than tol=0.000100 for 10 consecutive epochs. Stopping.\n",
          "output_type": "stream"
        },
        {
          "execution_count": 27,
          "output_type": "execute_result",
          "data": {
            "text/plain": "MLPClassifier(activation='logistic', hidden_layer_sizes=15,\n              learning_rate_init=0.1, random_state=1, solver='sgd',\n              verbose=True)",
            "text/html": "<style>#sk-container-id-1 {color: black;}#sk-container-id-1 pre{padding: 0;}#sk-container-id-1 div.sk-toggleable {background-color: white;}#sk-container-id-1 label.sk-toggleable__label {cursor: pointer;display: block;width: 100%;margin-bottom: 0;padding: 0.3em;box-sizing: border-box;text-align: center;}#sk-container-id-1 label.sk-toggleable__label-arrow:before {content: \"▸\";float: left;margin-right: 0.25em;color: #696969;}#sk-container-id-1 label.sk-toggleable__label-arrow:hover:before {color: black;}#sk-container-id-1 div.sk-estimator:hover label.sk-toggleable__label-arrow:before {color: black;}#sk-container-id-1 div.sk-toggleable__content {max-height: 0;max-width: 0;overflow: hidden;text-align: left;background-color: #f0f8ff;}#sk-container-id-1 div.sk-toggleable__content pre {margin: 0.2em;color: black;border-radius: 0.25em;background-color: #f0f8ff;}#sk-container-id-1 input.sk-toggleable__control:checked~div.sk-toggleable__content {max-height: 200px;max-width: 100%;overflow: auto;}#sk-container-id-1 input.sk-toggleable__control:checked~label.sk-toggleable__label-arrow:before {content: \"▾\";}#sk-container-id-1 div.sk-estimator input.sk-toggleable__control:checked~label.sk-toggleable__label {background-color: #d4ebff;}#sk-container-id-1 div.sk-label input.sk-toggleable__control:checked~label.sk-toggleable__label {background-color: #d4ebff;}#sk-container-id-1 input.sk-hidden--visually {border: 0;clip: rect(1px 1px 1px 1px);clip: rect(1px, 1px, 1px, 1px);height: 1px;margin: -1px;overflow: hidden;padding: 0;position: absolute;width: 1px;}#sk-container-id-1 div.sk-estimator {font-family: monospace;background-color: #f0f8ff;border: 1px dotted black;border-radius: 0.25em;box-sizing: border-box;margin-bottom: 0.5em;}#sk-container-id-1 div.sk-estimator:hover {background-color: #d4ebff;}#sk-container-id-1 div.sk-parallel-item::after {content: \"\";width: 100%;border-bottom: 1px solid gray;flex-grow: 1;}#sk-container-id-1 div.sk-label:hover label.sk-toggleable__label {background-color: #d4ebff;}#sk-container-id-1 div.sk-serial::before {content: \"\";position: absolute;border-left: 1px solid gray;box-sizing: border-box;top: 0;bottom: 0;left: 50%;z-index: 0;}#sk-container-id-1 div.sk-serial {display: flex;flex-direction: column;align-items: center;background-color: white;padding-right: 0.2em;padding-left: 0.2em;position: relative;}#sk-container-id-1 div.sk-item {position: relative;z-index: 1;}#sk-container-id-1 div.sk-parallel {display: flex;align-items: stretch;justify-content: center;background-color: white;position: relative;}#sk-container-id-1 div.sk-item::before, #sk-container-id-1 div.sk-parallel-item::before {content: \"\";position: absolute;border-left: 1px solid gray;box-sizing: border-box;top: 0;bottom: 0;left: 50%;z-index: -1;}#sk-container-id-1 div.sk-parallel-item {display: flex;flex-direction: column;z-index: 1;position: relative;background-color: white;}#sk-container-id-1 div.sk-parallel-item:first-child::after {align-self: flex-end;width: 50%;}#sk-container-id-1 div.sk-parallel-item:last-child::after {align-self: flex-start;width: 50%;}#sk-container-id-1 div.sk-parallel-item:only-child::after {width: 0;}#sk-container-id-1 div.sk-dashed-wrapped {border: 1px dashed gray;margin: 0 0.4em 0.5em 0.4em;box-sizing: border-box;padding-bottom: 0.4em;background-color: white;}#sk-container-id-1 div.sk-label label {font-family: monospace;font-weight: bold;display: inline-block;line-height: 1.2em;}#sk-container-id-1 div.sk-label-container {text-align: center;}#sk-container-id-1 div.sk-container {/* jupyter's `normalize.less` sets `[hidden] { display: none; }` but bootstrap.min.css set `[hidden] { display: none !important; }` so we also need the `!important` here to be able to override the default hidden behavior on the sphinx rendered scikit-learn.org. See: https://github.com/scikit-learn/scikit-learn/issues/21755 */display: inline-block !important;position: relative;}#sk-container-id-1 div.sk-text-repr-fallback {display: none;}</style><div id=\"sk-container-id-1\" class=\"sk-top-container\"><div class=\"sk-text-repr-fallback\"><pre>MLPClassifier(activation=&#x27;logistic&#x27;, hidden_layer_sizes=15,\n              learning_rate_init=0.1, random_state=1, solver=&#x27;sgd&#x27;,\n              verbose=True)</pre><b>In a Jupyter environment, please rerun this cell to show the HTML representation or trust the notebook. <br />On GitHub, the HTML representation is unable to render, please try loading this page with nbviewer.org.</b></div><div class=\"sk-container\" hidden><div class=\"sk-item\"><div class=\"sk-estimator sk-toggleable\"><input class=\"sk-toggleable__control sk-hidden--visually\" id=\"sk-estimator-id-1\" type=\"checkbox\" checked><label for=\"sk-estimator-id-1\" class=\"sk-toggleable__label sk-toggleable__label-arrow\">MLPClassifier</label><div class=\"sk-toggleable__content\"><pre>MLPClassifier(activation=&#x27;logistic&#x27;, hidden_layer_sizes=15,\n              learning_rate_init=0.1, random_state=1, solver=&#x27;sgd&#x27;,\n              verbose=True)</pre></div></div></div></div></div>"
          },
          "metadata": {}
        }
      ],
      "execution_count": 27
    },
    {
      "cell_type": "code",
      "source": " fig, axes = plt.subplots(1, 1)\naxes.plot(mlp.loss_curve_, 'o-')\naxes.set_xlabel(\"number of iterations\")\naxes.set_ylabel(\"loss\")\nplt.show()",
      "metadata": {
        "trusted": true
      },
      "outputs": [
        {
          "output_type": "display_data",
          "data": {
            "text/plain": "<Figure size 640x480 with 1 Axes>",
            "image/png": "[encoded data removed]"
          },
          "metadata": {}
        }
      ],
      "execution_count": 29
    },
    {
      "cell_type": "code",
      "source": "predictions = mlp.predict(x_test)\npredictions[:100]\n",
      "metadata": {
        "trusted": true
      },
      "outputs": [
        {
          "execution_count": 32,
          "output_type": "execute_result",
          "data": {
            "text/plain": "array([1, 4, 0, 5, 3, 6, 9, 6, 1, 7, 5, 4, 4, 7, 2, 8, 2, 2, 5, 7, 9, 5,\n       4, 4, 9, 0, 8, 9, 8, 0, 1, 2, 3, 4, 5, 6, 7, 8, 3, 0, 1, 2, 3, 4,\n       5, 6, 7, 8, 5, 0, 1, 2, 3, 4, 5, 6, 7, 8, 9, 0, 9, 5, 5, 6, 5, 0,\n       9, 8, 9, 8, 4, 1, 7, 7, 3, 5, 1, 0, 0, 7, 1, 2, 0, 1, 2, 6, 3, 3,\n       7, 3, 3, 4, 6, 6, 6, 9, 9, 1, 5, 0])"
          },
          "metadata": {}
        }
      ],
      "execution_count": 32
    },
    {
      "cell_type": "code",
      "source": "y_test[:100]",
      "metadata": {
        "trusted": true
      },
      "outputs": [
        {
          "execution_count": 33,
          "output_type": "execute_result",
          "data": {
            "text/plain": "array([1, 4, 0, 5, 3, 6, 9, 6, 1, 7, 5, 4, 4, 7, 2, 8, 2, 2, 5, 7, 9, 5,\n       4, 4, 9, 0, 8, 9, 8, 0, 1, 2, 3, 4, 5, 6, 7, 8, 9, 0, 1, 2, 3, 4,\n       5, 6, 7, 8, 9, 0, 1, 2, 3, 4, 5, 6, 7, 8, 9, 0, 9, 5, 5, 6, 5, 0,\n       9, 8, 9, 8, 4, 1, 7, 7, 3, 5, 1, 0, 0, 7, 8, 2, 0, 1, 2, 6, 3, 3,\n       7, 3, 3, 4, 6, 6, 6, 4, 9, 1, 5, 0])"
          },
          "metadata": {}
        }
      ],
      "execution_count": 33
    },
    {
      "cell_type": "code",
      "source": "from sklearn.metrics import accuracy_score\naccuracy_score(y_test, predictions)\n",
      "metadata": {
        "trusted": true
      },
      "outputs": [
        {
          "execution_count": 36,
          "output_type": "execute_result",
          "data": {
            "text/plain": "0.9146800501882058"
          },
          "metadata": {}
        }
      ],
      "execution_count": 36
    },
    {
      "cell_type": "code",
      "source": "",
      "metadata": {
        "trusted": true
      },
      "outputs": [],
      "execution_count": null
    }
  ]
}
